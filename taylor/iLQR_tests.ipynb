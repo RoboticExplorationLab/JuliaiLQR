{
 "cells": [
  {
   "cell_type": "code",
   "execution_count": 1,
   "metadata": {
    "collapsed": true
   },
   "outputs": [],
   "source": [
    "using Plots"
   ]
  },
  {
   "cell_type": "code",
   "execution_count": 56,
   "metadata": {},
   "outputs": [
    {
     "data": {
      "text/plain": [
       "0.01"
      ]
     },
     "execution_count": 56,
     "metadata": {},
     "output_type": "execute_result"
    }
   ],
   "source": [
    "n = 2\n",
    "p = 1\n",
    "m = 1.\n",
    "l = 1.\n",
    "g = 9.8\n",
    "mu = 0.01"
   ]
  },
  {
   "cell_type": "code",
   "execution_count": 57,
   "metadata": {},
   "outputs": [
    {
     "data": {
      "text/plain": [
       "dynamics (generic function with 1 method)"
      ]
     },
     "execution_count": 57,
     "metadata": {},
     "output_type": "execute_result"
    }
   ],
   "source": [
    "function f(x,u)\n",
    "    return [x[2]; (g/l*sin(x[1]) - mu/m/(l^2)*x[2] + 1/m/(l^2)*u)];\n",
    "end\n",
    "\n",
    "function fx(x,dt)\n",
    "    [(1 + g*cos(x[1])*(dt^2)/(2*l)) (dt - mu*(dt^2)/(2*m*l^2)); (g*cos(x[1] + x[2]*dt/2)*dt/l - mu*g*cos(x[1])*(dt^2)/(2*m*l^3)) (1 + g*cos(x[1] + x[2]*dt/2)*(dt^2)/(2*l) - mu*dt/(m*l^2) + (mu^2)*(dt^2)/(2*(m^2)*l^4))]\n",
    "end\n",
    "\n",
    "function fu(x,dt)\n",
    "    [(dt^2)/(2*m*l^2); (-mu*(dt^2)/(2*(m^2)*l^4) + dt/(m*l^2))];\n",
    "end\n",
    " \n",
    "function dynamics(x,u,dt)\n",
    "    return x + f(x + f(x,u)*dt/2,u)*dt\n",
    "end"
   ]
  },
  {
   "cell_type": "code",
   "execution_count": 58,
   "metadata": {},
   "outputs": [
    {
     "data": {
      "text/plain": [
       "1.0e-6"
      ]
     },
     "execution_count": 58,
     "metadata": {},
     "output_type": "execute_result"
    }
   ],
   "source": [
    "#initial conditions\n",
    "x0 = [0.; 0.]\n",
    "\n",
    "#goal\n",
    "xf = [pi; 0.] # (ie, swing up)\n",
    "\n",
    "#costs\n",
    "Q = 1e-5*eye(n)\n",
    "Qf = 25.*eye(n)\n",
    "R = 1e-5*eye(p)\n",
    "\n",
    "e_dJ = 1e-6"
   ]
  },
  {
   "cell_type": "code",
   "execution_count": 59,
   "metadata": {},
   "outputs": [
    {
     "data": {
      "text/plain": [
       "10"
      ]
     },
     "execution_count": 59,
     "metadata": {},
     "output_type": "execute_result"
    }
   ],
   "source": [
    "#simulation\n",
    "dt = 0.1\n",
    "tf = 1.\n",
    "N = convert(Int64,floor(tf/dt))\n",
    "t = linspace(0,tf,N)\n",
    "iterations = 100\n",
    "\n",
    "#initialization\n",
    "u = zeros(p,N-1)\n",
    "x = zeros(n,N)\n",
    "x_prev = zeros(n,N)\n",
    "x[:,1] = x0\n",
    "N"
   ]
  },
  {
   "cell_type": "code",
   "execution_count": 61,
   "metadata": {},
   "outputs": [
    {
     "data": {
      "image/svg+xml": [
       "<?xml version=\"1.0\" encoding=\"utf-8\"?>\n",
       "<svg xmlns=\"http://www.w3.org/2000/svg\" xmlns:xlink=\"http://www.w3.org/1999/xlink\" width=\"600\" height=\"400\" viewBox=\"0 0 600 400\">\n",
       "<defs>\n",
       "  <clipPath id=\"clip0100\">\n",
       "    <rect x=\"0\" y=\"0\" width=\"600\" height=\"400\"/>\n",
       "  </clipPath>\n",
       "</defs>\n",
       "<polygon clip-path=\"url(#clip0100)\" points=\"\n",
       "0,400 600,400 600,0 0,0 \n",
       "  \" fill=\"#ffffff\" fill-opacity=\"1\"/>\n",
       "<defs>\n",
       "  <clipPath id=\"clip0101\">\n",
       "    <rect x=\"120\" y=\"0\" width=\"421\" height=\"400\"/>\n",
       "  </clipPath>\n",
       "</defs>\n",
       "<polygon clip-path=\"url(#clip0100)\" points=\"\n",
       "32.4745,375.869 580.315,375.869 580.315,11.811 32.4745,11.811 \n",
       "  \" fill=\"#ffffff\" fill-opacity=\"1\"/>\n",
       "<defs>\n",
       "  <clipPath id=\"clip0102\">\n",
       "    <rect x=\"32\" y=\"11\" width=\"549\" height=\"365\"/>\n",
       "  </clipPath>\n",
       "</defs>\n",
       "<polyline clip-path=\"url(#clip0102)\" style=\"stroke:#000000; stroke-width:0.5; stroke-opacity:0.1; fill:none\" points=\"\n",
       "  32.4745,375.869 32.4745,11.811 \n",
       "  \"/>\n",
       "<polyline clip-path=\"url(#clip0102)\" style=\"stroke:#000000; stroke-width:0.5; stroke-opacity:0.1; fill:none\" points=\"\n",
       "  142.043,375.869 142.043,11.811 \n",
       "  \"/>\n",
       "<polyline clip-path=\"url(#clip0102)\" style=\"stroke:#000000; stroke-width:0.5; stroke-opacity:0.1; fill:none\" points=\"\n",
       "  251.611,375.869 251.611,11.811 \n",
       "  \"/>\n",
       "<polyline clip-path=\"url(#clip0102)\" style=\"stroke:#000000; stroke-width:0.5; stroke-opacity:0.1; fill:none\" points=\"\n",
       "  361.179,375.869 361.179,11.811 \n",
       "  \"/>\n",
       "<polyline clip-path=\"url(#clip0102)\" style=\"stroke:#000000; stroke-width:0.5; stroke-opacity:0.1; fill:none\" points=\"\n",
       "  470.747,375.869 470.747,11.811 \n",
       "  \"/>\n",
       "<polyline clip-path=\"url(#clip0102)\" style=\"stroke:#000000; stroke-width:0.5; stroke-opacity:0.1; fill:none\" points=\"\n",
       "  580.315,375.869 580.315,11.811 \n",
       "  \"/>\n",
       "<polyline clip-path=\"url(#clip0102)\" style=\"stroke:#000000; stroke-width:0.5; stroke-opacity:0.1; fill:none\" points=\"\n",
       "  32.4745,375.869 580.315,375.869 \n",
       "  \"/>\n",
       "<polyline clip-path=\"url(#clip0102)\" style=\"stroke:#000000; stroke-width:0.5; stroke-opacity:0.1; fill:none\" points=\"\n",
       "  32.4745,303.057 580.315,303.057 \n",
       "  \"/>\n",
       "<polyline clip-path=\"url(#clip0102)\" style=\"stroke:#000000; stroke-width:0.5; stroke-opacity:0.1; fill:none\" points=\"\n",
       "  32.4745,230.246 580.315,230.246 \n",
       "  \"/>\n",
       "<polyline clip-path=\"url(#clip0102)\" style=\"stroke:#000000; stroke-width:0.5; stroke-opacity:0.1; fill:none\" points=\"\n",
       "  32.4745,157.434 580.315,157.434 \n",
       "  \"/>\n",
       "<polyline clip-path=\"url(#clip0102)\" style=\"stroke:#000000; stroke-width:0.5; stroke-opacity:0.1; fill:none\" points=\"\n",
       "  32.4745,84.6226 580.315,84.6226 \n",
       "  \"/>\n",
       "<polyline clip-path=\"url(#clip0102)\" style=\"stroke:#000000; stroke-width:0.5; stroke-opacity:0.1; fill:none\" points=\"\n",
       "  32.4745,11.811 580.315,11.811 \n",
       "  \"/>\n",
       "<polyline clip-path=\"url(#clip0100)\" style=\"stroke:#000000; stroke-width:1; stroke-opacity:1; fill:none\" points=\"\n",
       "  32.4745,375.869 580.315,375.869 \n",
       "  \"/>\n",
       "<polyline clip-path=\"url(#clip0100)\" style=\"stroke:#000000; stroke-width:1; stroke-opacity:1; fill:none\" points=\"\n",
       "  32.4745,375.869 32.4745,11.811 \n",
       "  \"/>\n",
       "<polyline clip-path=\"url(#clip0100)\" style=\"stroke:#000000; stroke-width:1; stroke-opacity:1; fill:none\" points=\"\n",
       "  32.4745,375.869 32.4745,370.408 \n",
       "  \"/>\n",
       "<polyline clip-path=\"url(#clip0100)\" style=\"stroke:#000000; stroke-width:1; stroke-opacity:1; fill:none\" points=\"\n",
       "  142.043,375.869 142.043,370.408 \n",
       "  \"/>\n",
       "<polyline clip-path=\"url(#clip0100)\" style=\"stroke:#000000; stroke-width:1; stroke-opacity:1; fill:none\" points=\"\n",
       "  251.611,375.869 251.611,370.408 \n",
       "  \"/>\n",
       "<polyline clip-path=\"url(#clip0100)\" style=\"stroke:#000000; stroke-width:1; stroke-opacity:1; fill:none\" points=\"\n",
       "  361.179,375.869 361.179,370.408 \n",
       "  \"/>\n",
       "<polyline clip-path=\"url(#clip0100)\" style=\"stroke:#000000; stroke-width:1; stroke-opacity:1; fill:none\" points=\"\n",
       "  470.747,375.869 470.747,370.408 \n",
       "  \"/>\n",
       "<polyline clip-path=\"url(#clip0100)\" style=\"stroke:#000000; stroke-width:1; stroke-opacity:1; fill:none\" points=\"\n",
       "  580.315,375.869 580.315,370.408 \n",
       "  \"/>\n",
       "<polyline clip-path=\"url(#clip0100)\" style=\"stroke:#000000; stroke-width:1; stroke-opacity:1; fill:none\" points=\"\n",
       "  32.4745,375.869 40.6921,375.869 \n",
       "  \"/>\n",
       "<polyline clip-path=\"url(#clip0100)\" style=\"stroke:#000000; stroke-width:1; stroke-opacity:1; fill:none\" points=\"\n",
       "  32.4745,303.057 40.6921,303.057 \n",
       "  \"/>\n",
       "<polyline clip-path=\"url(#clip0100)\" style=\"stroke:#000000; stroke-width:1; stroke-opacity:1; fill:none\" points=\"\n",
       "  32.4745,230.246 40.6921,230.246 \n",
       "  \"/>\n",
       "<polyline clip-path=\"url(#clip0100)\" style=\"stroke:#000000; stroke-width:1; stroke-opacity:1; fill:none\" points=\"\n",
       "  32.4745,157.434 40.6921,157.434 \n",
       "  \"/>\n",
       "<polyline clip-path=\"url(#clip0100)\" style=\"stroke:#000000; stroke-width:1; stroke-opacity:1; fill:none\" points=\"\n",
       "  32.4745,84.6226 40.6921,84.6226 \n",
       "  \"/>\n",
       "<polyline clip-path=\"url(#clip0100)\" style=\"stroke:#000000; stroke-width:1; stroke-opacity:1; fill:none\" points=\"\n",
       "  32.4745,11.811 40.6921,11.811 \n",
       "  \"/>\n",
       "<g clip-path=\"url(#clip0100)\">\n",
       "<text style=\"fill:#000000; fill-opacity:1; font-family:Arial,Helvetica Neue,Helvetica,sans-serif; font-size:12; text-anchor:middle;\" transform=\"rotate(0, 32.4745, 389.669)\" x=\"32.4745\" y=\"389.669\">0.0</text>\n",
       "</g>\n",
       "<g clip-path=\"url(#clip0100)\">\n",
       "<text style=\"fill:#000000; fill-opacity:1; font-family:Arial,Helvetica Neue,Helvetica,sans-serif; font-size:12; text-anchor:middle;\" transform=\"rotate(0, 142.043, 389.669)\" x=\"142.043\" y=\"389.669\">0.2</text>\n",
       "</g>\n",
       "<g clip-path=\"url(#clip0100)\">\n",
       "<text style=\"fill:#000000; fill-opacity:1; font-family:Arial,Helvetica Neue,Helvetica,sans-serif; font-size:12; text-anchor:middle;\" transform=\"rotate(0, 251.611, 389.669)\" x=\"251.611\" y=\"389.669\">0.4</text>\n",
       "</g>\n",
       "<g clip-path=\"url(#clip0100)\">\n",
       "<text style=\"fill:#000000; fill-opacity:1; font-family:Arial,Helvetica Neue,Helvetica,sans-serif; font-size:12; text-anchor:middle;\" transform=\"rotate(0, 361.179, 389.669)\" x=\"361.179\" y=\"389.669\">0.6</text>\n",
       "</g>\n",
       "<g clip-path=\"url(#clip0100)\">\n",
       "<text style=\"fill:#000000; fill-opacity:1; font-family:Arial,Helvetica Neue,Helvetica,sans-serif; font-size:12; text-anchor:middle;\" transform=\"rotate(0, 470.747, 389.669)\" x=\"470.747\" y=\"389.669\">0.8</text>\n",
       "</g>\n",
       "<g clip-path=\"url(#clip0100)\">\n",
       "<text style=\"fill:#000000; fill-opacity:1; font-family:Arial,Helvetica Neue,Helvetica,sans-serif; font-size:12; text-anchor:middle;\" transform=\"rotate(0, 580.315, 389.669)\" x=\"580.315\" y=\"389.669\">1.0</text>\n",
       "</g>\n",
       "<g clip-path=\"url(#clip0100)\">\n",
       "<text style=\"fill:#000000; fill-opacity:1; font-family:Arial,Helvetica Neue,Helvetica,sans-serif; font-size:12; text-anchor:end;\" transform=\"rotate(0, 26.4745, 380.369)\" x=\"26.4745\" y=\"380.369\">0.0</text>\n",
       "</g>\n",
       "<g clip-path=\"url(#clip0100)\">\n",
       "<text style=\"fill:#000000; fill-opacity:1; font-family:Arial,Helvetica Neue,Helvetica,sans-serif; font-size:12; text-anchor:end;\" transform=\"rotate(0, 26.4745, 307.557)\" x=\"26.4745\" y=\"307.557\">0.2</text>\n",
       "</g>\n",
       "<g clip-path=\"url(#clip0100)\">\n",
       "<text style=\"fill:#000000; fill-opacity:1; font-family:Arial,Helvetica Neue,Helvetica,sans-serif; font-size:12; text-anchor:end;\" transform=\"rotate(0, 26.4745, 234.746)\" x=\"26.4745\" y=\"234.746\">0.4</text>\n",
       "</g>\n",
       "<g clip-path=\"url(#clip0100)\">\n",
       "<text style=\"fill:#000000; fill-opacity:1; font-family:Arial,Helvetica Neue,Helvetica,sans-serif; font-size:12; text-anchor:end;\" transform=\"rotate(0, 26.4745, 161.934)\" x=\"26.4745\" y=\"161.934\">0.6</text>\n",
       "</g>\n",
       "<g clip-path=\"url(#clip0100)\">\n",
       "<text style=\"fill:#000000; fill-opacity:1; font-family:Arial,Helvetica Neue,Helvetica,sans-serif; font-size:12; text-anchor:end;\" transform=\"rotate(0, 26.4745, 89.1226)\" x=\"26.4745\" y=\"89.1226\">0.8</text>\n",
       "</g>\n",
       "<g clip-path=\"url(#clip0100)\">\n",
       "<text style=\"fill:#000000; fill-opacity:1; font-family:Arial,Helvetica Neue,Helvetica,sans-serif; font-size:12; text-anchor:end;\" transform=\"rotate(0, 26.4745, 16.311)\" x=\"26.4745\" y=\"16.311\">1.0</text>\n",
       "</g>\n",
       "<polyline clip-path=\"url(#clip0102)\" style=\"stroke:#009af9; stroke-width:1; stroke-opacity:1; fill:none\" points=\"\n",
       "  32.4745,375.869 93.3457,375.869 154.217,375.869 215.088,375.869 275.959,375.869 336.83,375.869 397.701,375.869 458.573,375.869 519.444,375.869 580.315,375.869 \n",
       "  \n",
       "  \"/>\n",
       "<polygon clip-path=\"url(#clip0100)\" points=\"\n",
       "489.608,62.931 562.315,62.931 562.315,32.691 489.608,32.691 \n",
       "  \" fill=\"#ffffff\" fill-opacity=\"1\"/>\n",
       "<polyline clip-path=\"url(#clip0100)\" style=\"stroke:#000000; stroke-width:1; stroke-opacity:1; fill:none\" points=\"\n",
       "  489.608,62.931 562.315,62.931 562.315,32.691 489.608,32.691 489.608,62.931 \n",
       "  \"/>\n",
       "<polyline clip-path=\"url(#clip0100)\" style=\"stroke:#009af9; stroke-width:1; stroke-opacity:1; fill:none\" points=\"\n",
       "  495.608,47.811 531.608,47.811 \n",
       "  \"/>\n",
       "<g clip-path=\"url(#clip0100)\">\n",
       "<text style=\"fill:#000000; fill-opacity:1; font-family:Arial,Helvetica Neue,Helvetica,sans-serif; font-size:12; text-anchor:start;\" transform=\"rotate(0, 537.608, 52.311)\" x=\"537.608\" y=\"52.311\">y1</text>\n",
       "</g>\n",
       "</svg>\n"
      ]
     },
     "execution_count": 61,
     "metadata": {},
     "output_type": "execute_result"
    }
   ],
   "source": [
    "#first roll-out\n",
    "for k = 2:N\n",
    "    x[:,k] = dynamics(x[:,k-1],u[:,k-1],dt)\n",
    "end\n",
    "\n",
    "plot(linspace(0,tf,N),x[1,:])"
   ]
  },
  {
   "cell_type": "code",
   "execution_count": 62,
   "metadata": {},
   "outputs": [
    {
     "name": "stdout",
     "output_type": "stream",
     "text": [
      "Original Cost: 123.37049914581503"
     ]
    }
   ],
   "source": [
    "#original cost\n",
    "J = 0.\n",
    "for k = 1:N-1\n",
    "    J = J + (x[:,k] - xf)'*Q*(x[:,k] - xf) + u[:,k]'*R*u[:,k];\n",
    "end\n",
    "J = 0.5*(J + (x[:,N] - xf)'*Qf*(x[:,N] - xf))\n",
    "print(\"Original Cost: $J\")"
   ]
  },
  {
   "cell_type": "code",
   "execution_count": 68,
   "metadata": {},
   "outputs": [
    {
     "name": "stdout",
     "output_type": "stream",
     "text": [
      "Original Cost: 123.37049914581503"
     ]
    }
   ],
   "source": [
    "function rollout(x0,U,dt,tf,dynamics)\n",
    "    N = convert(Int64,floor(tf/dt))\n",
    "    X = zeros(size(x0,1),N)\n",
    "    X[:,1] = x0\n",
    "    for k = 1:N-1\n",
    "      X[:,k+1] = dynamics(X[:,k],U[:,k],dt)\n",
    "    end\n",
    "    return X\n",
    "end\n",
    "\n",
    "function cost(X,U,Q,R,Qf,xf)\n",
    "    N = size(X,2)\n",
    "    J = 0.\n",
    "    for k = 1:N-1\n",
    "      J += 0.5*(X[:,k] - xf)'*Q*(X[:,k] - xf) + 0.5*U[:,k]'*R*U[:,k]\n",
    "    end\n",
    "    J += 0.5*(X[:,N] - xf)'*Qf*(X[:,N] - xf)\n",
    "    return J\n",
    "end\n",
    "\n",
    "X = rollout(x0,u,dt,tf,dynamics)\n",
    "plot(linspace(0,tf,N),x[1,:])\n",
    "J = cost(X,u,Q,R,Qf,xf)\n",
    "print(\"Original Cost: $J\")"
   ]
  },
  {
   "cell_type": "code",
   "execution_count": 8,
   "metadata": {},
   "outputs": [
    {
     "name": "stdout",
     "output_type": "stream",
     "text": [
      "Original Cost: 123.37049914581503[10.2988 10.5086][111.417 15.2726][61.0256 11.3485][40.9601 9.22741][31.1433 7.94824][25.7325 7.12822][22.5265 6.58447][20.5415 6.2177][19.2806 5.96874]New cost: 92.2413701820951\n",
      "[-9.12452 9.53929][88.8992 14.5875][42.5609 10.4125][25.8558 8.10941][19.62 6.78217][17.723 6.06833][17.5038 5.74461][17.6836 5.63395][17.7519 5.60561]New cost: 0.010495638659399134\n",
      "[-9.29999 9.53056][87.834 14.5598][41.4145 10.3569][25.0632 8.04124][19.3097 6.72784][17.7381 6.04469][17.642 5.74837][17.8251 5.65097][17.8625 5.62421]New cost: 0.010415333341927001\n",
      "[-9.30009 9.53056][87.8107 14.5593][41.3602 10.3548][24.985 8.03646][19.2287 6.72048][17.671 6.0362][17.595 5.74059][17.7963 5.64508][17.8464 5.62036]New cost: 0.010415324294714909\n",
      "eps criteria met at iteration:4complete"
     ]
    }
   ],
   "source": [
    "print(\"Original Cost: $J\")\n",
    "for i = 1:iterations\n",
    "    \n",
    "    S = zeros(n,n,N)\n",
    "    S[:,:,N] = Qf\n",
    "    s = zeros(n,N)\n",
    "    s[:,N] = Qf*(x[:,N] - xf)\n",
    "    K = zeros(p,n,N)\n",
    "    lk = zeros(p,N)\n",
    "    C1 = zeros(1,n,N)\n",
    "    C2 = zeros(1,m,N)\n",
    "    C3 = zeros(n,n,N)\n",
    "    C4 = zeros(m,m,N)\n",
    "    C5 = zeros(m,n,N)\n",
    "    \n",
    "    mu_reg = 0.\n",
    "    k = N-1\n",
    "    while k >= 1\n",
    "        q = Q*(x[:,k] - xf)\n",
    "        r = R*(u[:,k])\n",
    "        A = fx(x[:,k],dt)\n",
    "        B = fu(x[:,k],dt);\n",
    "        C1[:,:,k] = q' + s[:,k+1]'*A \n",
    "        C2[:,:,k] = r' + s[:,k+1]'*B\n",
    "        C3[:,:,k] = Q + A'*S[:,:,k+1]*A\n",
    "        C4[:,:,k] = R + B'*(S[:,:,k+1] + mu_reg*eye(n))*B\n",
    "        C5[:,:,k] = B'*(S[:,:,k+1] + mu_reg*eye(n))*A\n",
    "        \n",
    "        #regularization\n",
    "        eig_val, eig_vec = eig(C4[:,:,k])\n",
    "        if any(x->x<0,eig_val)\n",
    "            mu_reg = mu_reg + 1;\n",
    "            k = N-1;\n",
    "            print(\"Regularize\")\n",
    "        end\n",
    "        \n",
    "        K[:,:,k] = inv(C4[:,:,k])*C5[:,:,k]\n",
    "        lk[:,k] = inv(C4[:,:,k])*C2[:,:,k]'\n",
    "        \n",
    "        s[:,k] = C1[:,:,k] - C2[:,:,k]*K[:,:,k] + lk[:,k]'*C4[:,:,k]*K[:,:,k] - lk[:,k]*C5[:,:,k]\n",
    "        S[:,:,k] = C3[:,:,k] + K[:,:,k]'*C4[:,:,k]*K[:,:,k] - K[:,:,k]'*C5[:,:,k] - C5[:,:,k]'*K[:,:,k]\n",
    "        \n",
    "        k = k - 1;\n",
    "    end\n",
    "    #update control, roll out new policy, calculate new cost\n",
    "    x_prev = copy(x)\n",
    "    J_prev = copy(J)\n",
    "    u_ = zeros(p,N-1)\n",
    "    J = Inf\n",
    "    alpha = 1\n",
    "    iter = 0\n",
    "    \n",
    "    while J > J_prev #|| iter == 0\n",
    "        x = zeros(n,N)\n",
    "        x[:,1] = x0\n",
    "        for k = 2:N\n",
    "            u_[:,k-1] = u[:,k-1] - K[:,:,k-1]*(x[:,k-1] - x_prev[:,k-1]) + alpha*(-lk[:,k-1])\n",
    "            x[:,k] = dynamics(x[:,k-1],u_[:,k-1],dt);\n",
    "        end\n",
    "        \n",
    "        J = 0;\n",
    "        for k = 1:N-1\n",
    "            J = J + (x[:,k] - xf)'*Q*(x[:,k] - xf) + u_[:,k]'*R*u_[:,k];\n",
    "        end\n",
    "        J = 0.5*(J + (x[:,N] - xf)'*Qf*(x[:,N] - xf))\n",
    "        \n",
    "        alpha = alpha/2;\n",
    "        iter = iter + 1;\n",
    "    end\n",
    "    println(\"New cost: $J\")\n",
    "    u = copy(u_);\n",
    "    \n",
    "    if abs(J - J_prev) < e_dJ\n",
    "        print(\"eps criteria met at iteration:$i\")\n",
    "        break\n",
    "    end\n",
    "end\n",
    "print(\"complete\")"
   ]
  },
  {
   "cell_type": "code",
   "execution_count": 9,
   "metadata": {},
   "outputs": [
    {
     "data": {
      "image/svg+xml": [
       "<?xml version=\"1.0\" encoding=\"utf-8\"?>\n",
       "<svg xmlns=\"http://www.w3.org/2000/svg\" xmlns:xlink=\"http://www.w3.org/1999/xlink\" width=\"600\" height=\"400\" viewBox=\"0 0 600 400\">\n",
       "<defs>\n",
       "  <clipPath id=\"clip9900\">\n",
       "    <rect x=\"0\" y=\"0\" width=\"600\" height=\"400\"/>\n",
       "  </clipPath>\n",
       "</defs>\n",
       "<polygon clip-path=\"url(#clip9900)\" points=\"\n",
       "0,400 600,400 600,0 0,0 \n",
       "  \" fill=\"#ffffff\" fill-opacity=\"1\"/>\n",
       "<defs>\n",
       "  <clipPath id=\"clip9901\">\n",
       "    <rect x=\"120\" y=\"0\" width=\"421\" height=\"400\"/>\n",
       "  </clipPath>\n",
       "</defs>\n",
       "<polygon clip-path=\"url(#clip9900)\" points=\"\n",
       "22.4386,375.869 580.315,375.869 580.315,11.811 22.4386,11.811 \n",
       "  \" fill=\"#ffffff\" fill-opacity=\"1\"/>\n",
       "<defs>\n",
       "  <clipPath id=\"clip9902\">\n",
       "    <rect x=\"22\" y=\"11\" width=\"559\" height=\"365\"/>\n",
       "  </clipPath>\n",
       "</defs>\n",
       "<polyline clip-path=\"url(#clip9902)\" style=\"stroke:#000000; stroke-width:0.5; stroke-opacity:0.1; fill:none\" points=\"\n",
       "  22.4386,375.869 22.4386,11.811 \n",
       "  \"/>\n",
       "<polyline clip-path=\"url(#clip9902)\" style=\"stroke:#000000; stroke-width:0.5; stroke-opacity:0.1; fill:none\" points=\"\n",
       "  134.014,375.869 134.014,11.811 \n",
       "  \"/>\n",
       "<polyline clip-path=\"url(#clip9902)\" style=\"stroke:#000000; stroke-width:0.5; stroke-opacity:0.1; fill:none\" points=\"\n",
       "  245.589,375.869 245.589,11.811 \n",
       "  \"/>\n",
       "<polyline clip-path=\"url(#clip9902)\" style=\"stroke:#000000; stroke-width:0.5; stroke-opacity:0.1; fill:none\" points=\"\n",
       "  357.164,375.869 357.164,11.811 \n",
       "  \"/>\n",
       "<polyline clip-path=\"url(#clip9902)\" style=\"stroke:#000000; stroke-width:0.5; stroke-opacity:0.1; fill:none\" points=\"\n",
       "  468.74,375.869 468.74,11.811 \n",
       "  \"/>\n",
       "<polyline clip-path=\"url(#clip9902)\" style=\"stroke:#000000; stroke-width:0.5; stroke-opacity:0.1; fill:none\" points=\"\n",
       "  580.315,375.869 580.315,11.811 \n",
       "  \"/>\n",
       "<polyline clip-path=\"url(#clip9902)\" style=\"stroke:#000000; stroke-width:0.5; stroke-opacity:0.1; fill:none\" points=\"\n",
       "  22.4386,375.869 580.315,375.869 \n",
       "  \"/>\n",
       "<polyline clip-path=\"url(#clip9902)\" style=\"stroke:#000000; stroke-width:0.5; stroke-opacity:0.1; fill:none\" points=\"\n",
       "  22.4386,308.491 580.315,308.491 \n",
       "  \"/>\n",
       "<polyline clip-path=\"url(#clip9902)\" style=\"stroke:#000000; stroke-width:0.5; stroke-opacity:0.1; fill:none\" points=\"\n",
       "  22.4386,241.113 580.315,241.113 \n",
       "  \"/>\n",
       "<polyline clip-path=\"url(#clip9902)\" style=\"stroke:#000000; stroke-width:0.5; stroke-opacity:0.1; fill:none\" points=\"\n",
       "  22.4386,173.735 580.315,173.735 \n",
       "  \"/>\n",
       "<polyline clip-path=\"url(#clip9902)\" style=\"stroke:#000000; stroke-width:0.5; stroke-opacity:0.1; fill:none\" points=\"\n",
       "  22.4386,106.358 580.315,106.358 \n",
       "  \"/>\n",
       "<polyline clip-path=\"url(#clip9902)\" style=\"stroke:#000000; stroke-width:0.5; stroke-opacity:0.1; fill:none\" points=\"\n",
       "  22.4386,38.98 580.315,38.98 \n",
       "  \"/>\n",
       "<polyline clip-path=\"url(#clip9900)\" style=\"stroke:#000000; stroke-width:1; stroke-opacity:1; fill:none\" points=\"\n",
       "  22.4386,375.869 580.315,375.869 \n",
       "  \"/>\n",
       "<polyline clip-path=\"url(#clip9900)\" style=\"stroke:#000000; stroke-width:1; stroke-opacity:1; fill:none\" points=\"\n",
       "  22.4386,375.869 22.4386,11.811 \n",
       "  \"/>\n",
       "<polyline clip-path=\"url(#clip9900)\" style=\"stroke:#000000; stroke-width:1; stroke-opacity:1; fill:none\" points=\"\n",
       "  22.4386,375.869 22.4386,370.408 \n",
       "  \"/>\n",
       "<polyline clip-path=\"url(#clip9900)\" style=\"stroke:#000000; stroke-width:1; stroke-opacity:1; fill:none\" points=\"\n",
       "  134.014,375.869 134.014,370.408 \n",
       "  \"/>\n",
       "<polyline clip-path=\"url(#clip9900)\" style=\"stroke:#000000; stroke-width:1; stroke-opacity:1; fill:none\" points=\"\n",
       "  245.589,375.869 245.589,370.408 \n",
       "  \"/>\n",
       "<polyline clip-path=\"url(#clip9900)\" style=\"stroke:#000000; stroke-width:1; stroke-opacity:1; fill:none\" points=\"\n",
       "  357.164,375.869 357.164,370.408 \n",
       "  \"/>\n",
       "<polyline clip-path=\"url(#clip9900)\" style=\"stroke:#000000; stroke-width:1; stroke-opacity:1; fill:none\" points=\"\n",
       "  468.74,375.869 468.74,370.408 \n",
       "  \"/>\n",
       "<polyline clip-path=\"url(#clip9900)\" style=\"stroke:#000000; stroke-width:1; stroke-opacity:1; fill:none\" points=\"\n",
       "  580.315,375.869 580.315,370.408 \n",
       "  \"/>\n",
       "<polyline clip-path=\"url(#clip9900)\" style=\"stroke:#000000; stroke-width:1; stroke-opacity:1; fill:none\" points=\"\n",
       "  22.4386,375.869 30.8068,375.869 \n",
       "  \"/>\n",
       "<polyline clip-path=\"url(#clip9900)\" style=\"stroke:#000000; stroke-width:1; stroke-opacity:1; fill:none\" points=\"\n",
       "  22.4386,308.491 30.8068,308.491 \n",
       "  \"/>\n",
       "<polyline clip-path=\"url(#clip9900)\" style=\"stroke:#000000; stroke-width:1; stroke-opacity:1; fill:none\" points=\"\n",
       "  22.4386,241.113 30.8068,241.113 \n",
       "  \"/>\n",
       "<polyline clip-path=\"url(#clip9900)\" style=\"stroke:#000000; stroke-width:1; stroke-opacity:1; fill:none\" points=\"\n",
       "  22.4386,173.735 30.8068,173.735 \n",
       "  \"/>\n",
       "<polyline clip-path=\"url(#clip9900)\" style=\"stroke:#000000; stroke-width:1; stroke-opacity:1; fill:none\" points=\"\n",
       "  22.4386,106.358 30.8068,106.358 \n",
       "  \"/>\n",
       "<polyline clip-path=\"url(#clip9900)\" style=\"stroke:#000000; stroke-width:1; stroke-opacity:1; fill:none\" points=\"\n",
       "  22.4386,38.98 30.8068,38.98 \n",
       "  \"/>\n",
       "<g clip-path=\"url(#clip9900)\">\n",
       "<text style=\"fill:#000000; fill-opacity:1; font-family:Arial,Helvetica Neue,Helvetica,sans-serif; font-size:12; text-anchor:middle;\" transform=\"rotate(0, 22.4386, 389.669)\" x=\"22.4386\" y=\"389.669\">0.0</text>\n",
       "</g>\n",
       "<g clip-path=\"url(#clip9900)\">\n",
       "<text style=\"fill:#000000; fill-opacity:1; font-family:Arial,Helvetica Neue,Helvetica,sans-serif; font-size:12; text-anchor:middle;\" transform=\"rotate(0, 134.014, 389.669)\" x=\"134.014\" y=\"389.669\">0.2</text>\n",
       "</g>\n",
       "<g clip-path=\"url(#clip9900)\">\n",
       "<text style=\"fill:#000000; fill-opacity:1; font-family:Arial,Helvetica Neue,Helvetica,sans-serif; font-size:12; text-anchor:middle;\" transform=\"rotate(0, 245.589, 389.669)\" x=\"245.589\" y=\"389.669\">0.4</text>\n",
       "</g>\n",
       "<g clip-path=\"url(#clip9900)\">\n",
       "<text style=\"fill:#000000; fill-opacity:1; font-family:Arial,Helvetica Neue,Helvetica,sans-serif; font-size:12; text-anchor:middle;\" transform=\"rotate(0, 357.164, 389.669)\" x=\"357.164\" y=\"389.669\">0.6</text>\n",
       "</g>\n",
       "<g clip-path=\"url(#clip9900)\">\n",
       "<text style=\"fill:#000000; fill-opacity:1; font-family:Arial,Helvetica Neue,Helvetica,sans-serif; font-size:12; text-anchor:middle;\" transform=\"rotate(0, 468.74, 389.669)\" x=\"468.74\" y=\"389.669\">0.8</text>\n",
       "</g>\n",
       "<g clip-path=\"url(#clip9900)\">\n",
       "<text style=\"fill:#000000; fill-opacity:1; font-family:Arial,Helvetica Neue,Helvetica,sans-serif; font-size:12; text-anchor:middle;\" transform=\"rotate(0, 580.315, 389.669)\" x=\"580.315\" y=\"389.669\">1.0</text>\n",
       "</g>\n",
       "<g clip-path=\"url(#clip9900)\">\n",
       "<text style=\"fill:#000000; fill-opacity:1; font-family:Arial,Helvetica Neue,Helvetica,sans-serif; font-size:12; text-anchor:end;\" transform=\"rotate(0, 16.4386, 380.369)\" x=\"16.4386\" y=\"380.369\">0</text>\n",
       "</g>\n",
       "<g clip-path=\"url(#clip9900)\">\n",
       "<text style=\"fill:#000000; fill-opacity:1; font-family:Arial,Helvetica Neue,Helvetica,sans-serif; font-size:12; text-anchor:end;\" transform=\"rotate(0, 16.4386, 312.991)\" x=\"16.4386\" y=\"312.991\">1</text>\n",
       "</g>\n",
       "<g clip-path=\"url(#clip9900)\">\n",
       "<text style=\"fill:#000000; fill-opacity:1; font-family:Arial,Helvetica Neue,Helvetica,sans-serif; font-size:12; text-anchor:end;\" transform=\"rotate(0, 16.4386, 245.613)\" x=\"16.4386\" y=\"245.613\">2</text>\n",
       "</g>\n",
       "<g clip-path=\"url(#clip9900)\">\n",
       "<text style=\"fill:#000000; fill-opacity:1; font-family:Arial,Helvetica Neue,Helvetica,sans-serif; font-size:12; text-anchor:end;\" transform=\"rotate(0, 16.4386, 178.235)\" x=\"16.4386\" y=\"178.235\">3</text>\n",
       "</g>\n",
       "<g clip-path=\"url(#clip9900)\">\n",
       "<text style=\"fill:#000000; fill-opacity:1; font-family:Arial,Helvetica Neue,Helvetica,sans-serif; font-size:12; text-anchor:end;\" transform=\"rotate(0, 16.4386, 110.858)\" x=\"16.4386\" y=\"110.858\">4</text>\n",
       "</g>\n",
       "<g clip-path=\"url(#clip9900)\">\n",
       "<text style=\"fill:#000000; fill-opacity:1; font-family:Arial,Helvetica Neue,Helvetica,sans-serif; font-size:12; text-anchor:end;\" transform=\"rotate(0, 16.4386, 43.48)\" x=\"16.4386\" y=\"43.48\">5</text>\n",
       "</g>\n",
       "<polyline clip-path=\"url(#clip9902)\" style=\"stroke:#009af9; stroke-width:1; stroke-opacity:1; fill:none\" points=\"\n",
       "  22.4386,375.869 84.4249,369.439 146.411,352.366 208.397,327.524 270.384,296.707 332.37,261.805 394.356,225.998 456.342,194.239 518.329,172.195 580.315,164.196 \n",
       "  \n",
       "  \"/>\n",
       "<polyline clip-path=\"url(#clip9902)\" style=\"stroke:#e26f46; stroke-width:1; stroke-opacity:1; fill:none\" points=\"\n",
       "  22.4386,375.869 84.4249,247.335 146.411,156.768 208.397,88.3956 270.384,37.4785 332.37,11.811 394.356,28.3008 456.342,100.212 518.329,223.277 580.315,375.863 \n",
       "  \n",
       "  \"/>\n",
       "<polygon clip-path=\"url(#clip9900)\" points=\"\n",
       "489.608,78.051 562.315,78.051 562.315,32.691 489.608,32.691 \n",
       "  \" fill=\"#ffffff\" fill-opacity=\"1\"/>\n",
       "<polyline clip-path=\"url(#clip9900)\" style=\"stroke:#000000; stroke-width:1; stroke-opacity:1; fill:none\" points=\"\n",
       "  489.608,78.051 562.315,78.051 562.315,32.691 489.608,32.691 489.608,78.051 \n",
       "  \"/>\n",
       "<polyline clip-path=\"url(#clip9900)\" style=\"stroke:#009af9; stroke-width:1; stroke-opacity:1; fill:none\" points=\"\n",
       "  495.608,47.811 531.608,47.811 \n",
       "  \"/>\n",
       "<g clip-path=\"url(#clip9900)\">\n",
       "<text style=\"fill:#000000; fill-opacity:1; font-family:Arial,Helvetica Neue,Helvetica,sans-serif; font-size:12; text-anchor:start;\" transform=\"rotate(0, 537.608, 52.311)\" x=\"537.608\" y=\"52.311\">y1</text>\n",
       "</g>\n",
       "<polyline clip-path=\"url(#clip9900)\" style=\"stroke:#e26f46; stroke-width:1; stroke-opacity:1; fill:none\" points=\"\n",
       "  495.608,62.931 531.608,62.931 \n",
       "  \"/>\n",
       "<g clip-path=\"url(#clip9900)\">\n",
       "<text style=\"fill:#000000; fill-opacity:1; font-family:Arial,Helvetica Neue,Helvetica,sans-serif; font-size:12; text-anchor:start;\" transform=\"rotate(0, 537.608, 67.431)\" x=\"537.608\" y=\"67.431\">y2</text>\n",
       "</g>\n",
       "</svg>\n"
      ]
     },
     "execution_count": 9,
     "metadata": {},
     "output_type": "execute_result"
    }
   ],
   "source": [
    "plot(linspace(0,tf,N),x[1,:])\n",
    "plot!(linspace(0,tf,N),x[2,:])"
   ]
  },
  {
   "cell_type": "code",
   "execution_count": 100,
   "metadata": {},
   "outputs": [
    {
     "ename": "LoadError",
     "evalue": "\u001b[91mUndefVarError: Jacobian not defined\u001b[39m",
     "output_type": "error",
     "traceback": [
      "\u001b[91mUndefVarError: Jacobian not defined\u001b[39m",
      "",
      "Stacktrace:",
      " [1] \u001b[1m(::##117#118)\u001b[22m\u001b[22m\u001b[1m(\u001b[22m\u001b[22m::Array{Float64,1}\u001b[1m)\u001b[22m\u001b[22m at \u001b[1m.\\In[100]:3\u001b[22m\u001b[22m"
     ]
    }
   ],
   "source": [
    "using ForwardDiff\n",
    "h(x::Vector) = sin(x)sum(sin,x)# + prod(tan,x)*sum(sqrt,x)\n",
    "H = x -> ForwardDiff.Jacobian(h,x)\n",
    "H([1.;1.])\n"
   ]
  },
  {
   "cell_type": "code",
   "execution_count": 94,
   "metadata": {},
   "outputs": [
    {
     "data": {
      "text/plain": [
       "1.7507684116335782"
      ]
     },
     "execution_count": 94,
     "metadata": {},
     "output_type": "execute_result"
    }
   ],
   "source": [
    "sum(sin,[1;2])"
   ]
  },
  {
   "cell_type": "code",
   "execution_count": 102,
   "metadata": {},
   "outputs": [
    {
     "ename": "LoadError",
     "evalue": "\u001b[91mcannot define function p; it already has a value\u001b[39m",
     "output_type": "error",
     "traceback": [
      "\u001b[91mcannot define function p; it already has a value\u001b[39m",
      ""
     ]
    }
   ],
   "source": [
    "p(x) = sin(x)\n",
    "P = x -> ForwardDiff.derivative(p,x)\n",
    "print(p(0),P(0))"
   ]
  },
  {
   "cell_type": "code",
   "execution_count": null,
   "metadata": {
    "collapsed": true
   },
   "outputs": [],
   "source": []
  }
 ],
 "metadata": {
  "kernelspec": {
   "display_name": "Julia 0.6.3",
   "language": "julia",
   "name": "julia-0.6"
  },
  "language_info": {
   "file_extension": ".jl",
   "mimetype": "application/julia",
   "name": "julia",
   "version": "0.6.3"
  }
 },
 "nbformat": 4,
 "nbformat_minor": 2
}
